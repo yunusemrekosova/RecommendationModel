{
 "cells": [
  {
   "cell_type": "markdown",
   "id": "7de95cbf-03b6-4442-9ac6-b11c233f3818",
   "metadata": {},
   "source": [
    "<h1 style=\"color:blue;\">Co-Occurance Based Recommendation Model</h1>"
   ]
  },
  {
   "cell_type": "markdown",
   "id": "713e5b13-4f22-4056-a784-075345c1d59a",
   "metadata": {},
   "source": [
    "## Loading Shopping Cart and Filtering"
   ]
  },
  {
   "cell_type": "code",
   "execution_count": 2,
   "id": "6adf5ef8-f132-4de3-b74a-ad634b9f4609",
   "metadata": {},
   "outputs": [],
   "source": [
    "# Block 1: Loading required libraries\n",
    "# Gerekli kütüphaneler yükleniyor\n",
    "import pandas as pd"
   ]
  },
  {
   "cell_type": "code",
   "execution_count": null,
   "id": "2800ad97-139c-4694-9de2-15829cc5e6f2",
   "metadata": {},
   "outputs": [],
   "source": [
    "# Block 2: Load the ShoppingCart data with the correct delimiter\n",
    "# ShoppingCart verisini doğru ayırıcı ile yükleyin\n",
    "shopping_cart_file = \"ShoppingCart.csv\"\n",
    "df_shopping_cart = pd.read_csv(shopping_cart_file, delimiter=';')\n",
    "\n",
    "# Display the exact column names in the dataset to verify them\n",
    "# Veri kümesindeki tam sütun adlarını doğrulamak için görüntüleyin\n",
    "print(\"Column names:\", df_shopping_cart.columns)"
   ]
  },
  {
   "cell_type": "code",
   "execution_count": 4,
   "id": "f6ba3645-b50f-40a5-99c9-42e840b94e31",
   "metadata": {},
   "outputs": [],
   "source": [
    "# Block 3: Prompt for user input on filter criteria\n",
    "# Filtre kriterleri için kullanıcı girdisi iste\n",
    "# Ask the user to specify the minimum transaction count per customer\n",
    "# Kullanıcıdan her müşteri için minimum işlem sayısını belirlemesini iste\n",
    "min_transactions = int(input(\"Enter the minimum transaction count per customer (enter 3 for default): \"))  \n",
    "\n",
    "# Ask the user to specify the minimum item count per shopping cart\n",
    "# Kullanıcıdan her alışveriş sepeti için minimum ürün sayısını belirlemesini iste\n",
    "min_cart_items = int(input(\"Enter the minimum item count per shopping cart (enter 2 for default): \")) "
   ]
  },
  {
   "cell_type": "code",
   "execution_count": null,
   "id": "ed2b92f9-8dd0-4bbf-9b48-930dfd69b105",
   "metadata": {},
   "outputs": [],
   "source": [
    "# Block 4: Filter data based on the user-defined criteria\n",
    "# Blok 4: Kullanıcı tanımlı kriterlere göre veriyi filtrele\n",
    "\n",
    "# Step 1: Filter finalized orders by excluding rows with NaN in OrderId and only including Active == False\n",
    "# Adım 1: OrderId sütununda NaN olanları hariç tutarak ve yalnızca Active == False olanları dahil ederek tamamlanmış siparişleri filtreleyin\n",
    "df_orders = df_shopping_cart[(df_shopping_cart['OrderId (ShoppingCart)'].notna()) & \n",
    "                             (df_shopping_cart['Active (ShoppingCart)'] == False)]\n",
    "\n",
    "# Step 2: Exclude blacklisted customers\n",
    "# Adım 2: Kara listeye alınmış müşterileri hariç tut\n",
    "blacklisted_customers = [9620, 10246, 9063, 10469, 2681, 2825, 522, 10294, 9945, 8414]\n",
    "df_orders = df_orders[~df_orders['CustomerId (ShoppingCart)'].isin(blacklisted_customers)]\n",
    "\n",
    "# Step 3: Filter users (UserId) with transactions meeting the minimum transaction count\n",
    "# Adım 3: Minimum işlem sayısını karşılayan işlemleri olan kullanıcıları (UserId) filtrele\n",
    "user_transaction_counts = df_orders.groupby('UserId (ShoppingCart)')['OrderId (ShoppingCart)'].nunique()\n",
    "eligible_users = user_transaction_counts[user_transaction_counts >= min_transactions].index\n",
    "df_filtered = df_orders[df_orders['UserId (ShoppingCart)'].isin(eligible_users)]\n",
    "\n",
    "# Step 4: Filter shopping carts that have at least the minimum item count specified by the user\n",
    "# Adım 4: Kullanıcı tarafından belirtilen minimum ürün sayısını içeren alışveriş sepetlerini filtrele\n",
    "order_item_counts = df_filtered.groupby('OrderId (ShoppingCart)')['ProductId (ShoppingCart)'].nunique()\n",
    "eligible_orders = order_item_counts[order_item_counts >= min_cart_items].index\n",
    "df_filtered = df_filtered[df_filtered['OrderId (ShoppingCart)'].isin(eligible_orders)]\n",
    "\n",
    "# Display the number of rows after filtering\n",
    "# Filtreleme işleminden sonraki satır sayısını görüntüle\n",
    "print(f\"Number of rows after filtering: {len(df_filtered)}\")\n"
   ]
  },
  {
   "cell_type": "code",
   "execution_count": null,
   "id": "b72a1deb-d254-4d8c-82f3-15a60a30a27d",
   "metadata": {},
   "outputs": [],
   "source": [
    "# Block 5: Calculate and display statistics on the filtered data\n",
    "# Filtrelenmiş veriyle ilgili istatistikleri hesaplayın ve görüntüleyin\n",
    "\n",
    "# Step 1: Calculate the total number of eligible customers in the filtered dataset\n",
    "# Adım 1: Filtrelenmiş veri kümesindeki uygun müşterilerin toplam sayısını hesapla\n",
    "total_customers = df_filtered['CustomerId (ShoppingCart)'].nunique()\n",
    "\n",
    "# Step 2: Calculate the total number of eligible orders in the filtered dataset\n",
    "# Adım 2: Filtrelenmiş veri kümesindeki uygun siparişlerin toplam sayısını hesapla\n",
    "total_orders = df_filtered['OrderId (ShoppingCart)'].nunique()\n",
    "\n",
    "# Step 3: Display the filtered data statistics\n",
    "# Adım 3: Filtrelenmiş veri istatistiklerini görüntüleyin\n",
    "print(\"Filtered Data Statistics:\")\n",
    "print(f\"Total Eligible Customers: {total_customers}\")  # Toplam Uygun Müşteri Sayısı\n",
    "print(f\"Total Eligible Orders: {total_orders}\")        # Toplam Uygun Sipariş Sayısı\n"
   ]
  },
  {
   "cell_type": "code",
   "execution_count": null,
   "id": "f4a60049-3c9c-43b3-b38d-50b656db259c",
   "metadata": {},
   "outputs": [],
   "source": [
    "# Block 6: Keep only the necessary columns to optimize processing speed\n",
    "# Blok 6: İşlem hızını optimize etmek için yalnızca gerekli sütunları saklayın\n",
    "\n",
    "# Selecting relevant columns for recommendation model\n",
    "# Tavsiye modeli için ilgili sütunları seçme\n",
    "df_filtered = df_filtered[['UserId (ShoppingCart)', 'CustomerId (ShoppingCart)', \n",
    "                           'OrderId (ShoppingCart)', 'ProductId (ShoppingCart)', \n",
    "                           'Quantity (ShoppingCart)']]\n",
    "\n",
    "# Display the first few rows to verify the selected columns\n",
    "# Seçilen sütunları doğrulamak için ilk birkaç satırı görüntüleyin\n",
    "df_filtered.head()\n"
   ]
  },
  {
   "cell_type": "markdown",
   "id": "d2764d40-cad4-4e75-9b22-69fd19a7827a",
   "metadata": {},
   "source": [
    "## Loading Customer and Product Data"
   ]
  },
  {
   "cell_type": "code",
   "execution_count": 8,
   "id": "b50d9750-3f2b-4fbf-9b9c-928fa4e4700d",
   "metadata": {},
   "outputs": [],
   "source": [
    "import pandas as pd\n",
    "\n",
    "# Load customer and product data files\n",
    "# Müşteri ve ürün veri dosyalarını yükle\n",
    "customers_file = \"FilteredCustomers.csv\"\n",
    "products_file = \"Products.csv\"\n",
    "\n",
    "df_customers = pd.read_csv(customers_file, delimiter=';')\n",
    "df_products = pd.read_csv(products_file, delimiter=';')"
   ]
  },
  {
   "cell_type": "code",
   "execution_count": null,
   "id": "75e52f59-5a1b-48d8-84af-1ac9689c8074",
   "metadata": {},
   "outputs": [],
   "source": [
    "df_customers.head()"
   ]
  },
  {
   "cell_type": "code",
   "execution_count": null,
   "id": "8959a4be-46ba-4c84-aee4-2ac9cc6c29ec",
   "metadata": {},
   "outputs": [],
   "source": [
    "df_products.head()"
   ]
  },
  {
   "cell_type": "code",
   "execution_count": 11,
   "id": "dce61365-525e-4767-b780-aeff16ce2f78",
   "metadata": {},
   "outputs": [],
   "source": [
    "# Block 2: Create Lookup Functions\n",
    "# Eşleme Fonksiyonları Oluşturma\n",
    "\n",
    "# Function to get customer code and title based on CustomerId\n",
    "# CustomerId'ye göre müşteri kodunu ve ünvanını alma fonksiyonu\n",
    "\n",
    "def get_customer_code(customer_id):\n",
    "    customer_row = df_customers[df_customers['Id (Customers)'] == customer_id]\n",
    "    if not customer_row.empty:\n",
    "        customer_code = customer_row['Code (Customers)'].values[0]\n",
    "        return customer_code\n",
    "    else:\n",
    "        return \"Customer code not found\"\n",
    "\n",
    "# Function to get product model number based on ProductId\n",
    "# ProductId'ye göre ürün model numarasını alma fonksiyonu\n",
    "def get_product_model_number(product_id):\n",
    "    model_number = df_products.loc[df_products['Id (Products)'] == product_id, 'ModelNumber (Products)']\n",
    "    if not model_number.empty:\n",
    "        return model_number.values[0]\n",
    "    else:\n",
    "        return \"Product not found\" \n",
    "\n",
    "# Function to get ProductId based on Product Model Number\n",
    "# Ürün model numarasına göre ProductId alma fonksiyonu\n",
    "def get_product_id_by_model_number(model_number):\n",
    "    product_row = df_products[df_products['ModelNumber (Products)'] == model_number]\n",
    "    if not product_row.empty:\n",
    "        return product_row['Id (Products)'].values[0]\n",
    "    else:\n",
    "        return \"ProductId not found\"\n",
    "\n",
    "# Function to get CustomerId based on Customer Code\n",
    "# Müşteri koduna göre CustomerId alma fonksiyonu\n",
    "def get_customer_id_by_code(customer_code):\n",
    "    customer_row = df_customers[df_customers['Code (Customers)'] == customer_code]\n",
    "    if not customer_row.empty:\n",
    "        return customer_row['Id (Customers)'].values[0]\n",
    "    else:\n",
    "        return \"CustomerId not found\" \n"
   ]
  },
  {
   "cell_type": "code",
   "execution_count": null,
   "id": "32c06de9-8531-4c44-950f-e99d0b6c6ed2",
   "metadata": {},
   "outputs": [],
   "source": [
    "# Block 3: Test the Lookup Functions with Random Sample\n",
    "# Blok 3: Eşleme Fonksiyonlarını Rastgele Örnek ile Test Etme\n",
    "\n",
    "import random\n",
    "\n",
    "## Randomly select a customer ID from the filtered data\n",
    "## Filtrelenmiş veriden rastgele bir müşteri ID'si seçin\n",
    "sample_customer_id = random.choice(df_filtered['CustomerId (ShoppingCart)'].unique())\n",
    "customer_code = get_customer_code(sample_customer_id)\n",
    "print(f\"Customer Code for ID {sample_customer_id}: {customer_code}\")\n",
    "\n",
    "# Randomly select a product ID from the filtered data\n",
    "# Filtrelenmiş veriden rastgele bir ürün ID'si seçin\n",
    "sample_product_id = random.choice(df_filtered['ProductId (ShoppingCart)'].unique())\n",
    "product_model_number = get_product_model_number(sample_product_id)\n",
    "print(f\"Product Model Number for ID {sample_product_id}: {product_model_number}\")\n",
    "\n",
    "# Test: Retrieve and print the ProductId for a specific product model number\n",
    "# Test: Belirli bir ürün model numarası için ProductId'yi alın ve yazdırın\n",
    "sample_model_number = \"TRW GDB400\"  # Replace with an actual model number from your dataset\n",
    "product_id = get_product_id_by_model_number(sample_model_number)\n",
    "print(f\"ProductId for Model Number {sample_model_number}: {product_id}\")\n",
    "\n",
    "# Test: Retrieve and print the CustomerId for a specific customer code\n",
    "# Test: Belirli bir müşteri kodu için CustomerId'yi alın ve yazdırın\n",
    "sample_customer_code = \"120.01.269\"  # Replace with an actual customer code from your dataset\n",
    "customer_id = get_customer_id_by_code(sample_customer_code)\n",
    "print(f\"CustomerId for Customer Code {sample_customer_code}: {customer_id}\")"
   ]
  },
  {
   "cell_type": "markdown",
   "id": "5770042d-8b39-4eeb-acae-7c83a99a700e",
   "metadata": {},
   "source": [
    "## DATA EXPLORATION"
   ]
  },
  {
   "cell_type": "code",
   "execution_count": null,
   "id": "86e09104-0ff0-4f86-aa6b-f3e5b1999133",
   "metadata": {},
   "outputs": [],
   "source": [
    "# Block 1: Basic Statistics\n",
    "# Temel İstatistikler\n",
    "\n",
    "# Step 1: Count unique customers, orders, and products\n",
    "# Adım 1: Benzersiz müşteri, sipariş ve ürün sayılarını hesapla\n",
    "num_customers = df_filtered['CustomerId (ShoppingCart)'].nunique()\n",
    "num_orders = df_filtered['OrderId (ShoppingCart)'].nunique()\n",
    "num_products = df_filtered['ProductId (ShoppingCart)'].nunique()\n",
    "\n",
    "# Display basic statistics\n",
    "# Temel istatistikleri görüntüle\n",
    "print(\"Basic Statistics:\")\n",
    "print(f\"Unique Customers: {num_customers}\")      \n",
    "print(f\"Unique Orders: {num_orders}\")            \n",
    "print(f\"Unique Products: {num_products}\")        \n"
   ]
  },
  {
   "cell_type": "code",
   "execution_count": null,
   "id": "7a064145-9669-463a-b041-c52aa91ab947",
   "metadata": {
    "scrolled": true
   },
   "outputs": [],
   "source": [
    "# Block 2: Top Customers by Order Volume\n",
    "# Sipariş Hacmine Göre En Çok Sipariş Veren Müşteriler\n",
    "\n",
    "# Group by CustomerId and count the number of orders per customer\n",
    "# CustomerId'ye göre gruplandır ve müşteri başına sipariş sayısını hesapla\n",
    "top_customers = df_filtered.groupby('CustomerId (ShoppingCart)')['OrderId (ShoppingCart)'].nunique()\n",
    "top_customers = top_customers.sort_values(ascending=False).head(100)\n",
    "\n",
    "# Display top customers and their order counts with code and title\n",
    "# En çok sipariş veren müşterileri, kodlarını ve ünvanlarını görüntüleyin\n",
    "print(\"Top Customers by Order Volume:\")\n",
    "for customer_id, order_count in top_customers.items():\n",
    "    customer_code = get_customer_code(customer_id)\n",
    "    print(f\"Customer ID: {customer_id}, Code: {customer_code}, Orders: {order_count}\")\n"
   ]
  },
  {
   "cell_type": "code",
   "execution_count": null,
   "id": "04a36569-5e8a-4695-b921-ed8fc93deb5a",
   "metadata": {
    "scrolled": true
   },
   "outputs": [],
   "source": [
    "# Block 3: Top Products by Popularity\n",
    "# Popülerliğe Göre En Çok Sipariş Edilen Ürünler\n",
    "\n",
    "# Group by ProductId and count distinct orders to find popular products\n",
    "# ProductId'ye göre gruplandır ve benzersiz sipariş sayılarını hesaplayarak popüler ürünleri bul\n",
    "top_products = df_filtered.groupby('ProductId (ShoppingCart)')['OrderId (ShoppingCart)'].nunique()\n",
    "top_products = top_products.sort_values(ascending=False).head(100)\n",
    "\n",
    "# Display top products and their order counts with model numbers\n",
    "# En çok sipariş edilen ürünleri ve model numaralarını görüntüleyin\n",
    "print(\"Top Products by Popularity:\")\n",
    "for product_id, order_count in top_products.items():\n",
    "    product_model_number = get_product_model_number(product_id)\n",
    "    print(f\"Product ID: {product_id}, Model Number: {product_model_number}, Orders: {order_count}\")\n"
   ]
  },
  {
   "cell_type": "code",
   "execution_count": null,
   "id": "cdfdc7bc-eb2a-4f7a-a634-7b059e65e688",
   "metadata": {},
   "outputs": [],
   "source": [
    "# Block 4: Average Order Size\n",
    "# Ortalama Sipariş Büyüklüğü\n",
    "\n",
    "# Calculate the average number of unique products per order\n",
    "# Sipariş başına ortalama benzersiz ürün sayısını hesapla\n",
    "avg_products_per_order = df_filtered.groupby('OrderId (ShoppingCart)')['ProductId (ShoppingCart)'].nunique().mean()\n",
    "\n",
    "# Display the average order size\n",
    "# Ortalama sipariş büyüklüğünü görüntüleyin\n",
    "print(f\"Average Order Size (Unique Products per Order): {avg_products_per_order:.2f}\")\n"
   ]
  },
  {
   "cell_type": "markdown",
   "id": "2b9c92dd-84d4-4d26-bdcc-7cfe7ad3bd2a",
   "metadata": {},
   "source": [
    "## CREATING MATRIX"
   ]
  },
  {
   "cell_type": "code",
   "execution_count": null,
   "id": "71d64955-9c1a-4db5-a88a-8858cda0a538",
   "metadata": {},
   "outputs": [],
   "source": [
    "print(df_filtered.columns)"
   ]
  },
  {
   "cell_type": "code",
   "execution_count": null,
   "id": "d5a81dee-6ed9-4153-8777-7df9e342a739",
   "metadata": {},
   "outputs": [],
   "source": [
    "# Block: Create Item-Item Co-Occurrence Matrix\n",
    "# Blok: Ürün-Ürün Birliktelik Matrisini Oluşturma\n",
    "\n",
    "import pandas as pd\n",
    "import numpy as np\n",
    "from scipy.sparse import csr_matrix\n",
    "\n",
    "# Step 1: Extract unique products and create an index map\n",
    "# Adım 1: Benzersiz ürünleri çıkarın ve bir indeks haritası oluşturun\n",
    "product_ids = df_filtered['ProductId (ShoppingCart)'].drop_duplicates().reset_index(drop=True)\n",
    "product_index_map = {pid: idx for idx, pid in enumerate(product_ids)}\n",
    "\n",
    "# Step 2: Group by orders to get all products per order\n",
    "# Adım 2: Siparişlere göre gruplandırın ve her sipariş için tüm ürünleri alın\n",
    "orders = df_filtered.groupby('OrderId (ShoppingCart)')['ProductId (ShoppingCart)'].apply(list)\n",
    "\n",
    "# Step 3: Build a co-occurrence dictionary\n",
    "# Adım 3: Birliktelik sözlüğü oluşturun\n",
    "from collections import defaultdict\n",
    "co_occurrence_counts = defaultdict(int)\n",
    "\n",
    "# For each order, generate all unique pairs of products and increment their co-occurrence\n",
    "# Her sipariş için, tüm benzersiz ürün çiftlerini oluşturun ve birlikte görünme sayılarını artırın\n",
    "for prod_list in orders:\n",
    "    # Sort the product list to ensure consistency in pair generation\n",
    "    # Ürün listesini sıralayın, böylece çift oluşturma tutarlı olsun\n",
    "    prod_list = sorted(set(prod_list))\n",
    "    for i in range(len(prod_list)):\n",
    "        for j in range(i+1, len(prod_list)):\n",
    "            p_i = product_index_map[prod_list[i]]\n",
    "            p_j = product_index_map[prod_list[j]]\n",
    "            co_occurrence_counts[(p_i, p_j)] += 1\n",
    "            co_occurrence_counts[(p_j, p_i)] += 1  # Symmetric increment for (j, i)\n",
    "\n",
    "# Step 4: Construct sparse matrix from co-occurrence dictionary\n",
    "# Adım 4: Birliktelik sözlüğünden seyrek matris oluşturun\n",
    "num_products = len(product_ids)\n",
    "row_indices = []\n",
    "col_indices = []\n",
    "data_values = []\n",
    "\n",
    "for (i, j), count in co_occurrence_counts.items():\n",
    "    row_indices.append(i)\n",
    "    col_indices.append(j)\n",
    "    data_values.append(count)\n",
    "\n",
    "co_occurrence_matrix = csr_matrix((data_values, (row_indices, col_indices)), shape=(num_products, num_products))\n",
    "\n",
    "# Display basic info about the co-occurrence matrix\n",
    "# Birliktelik matrisi hakkında temel bilgileri görüntüleyin\n",
    "print(\"Item-Item Co-Occurrence Matrix Constructed:\")\n",
    "print(f\"Shape: {co_occurrence_matrix.shape}\")\n",
    "print(f\"Number of Non-Zero Entries: {co_occurrence_matrix.nnz}\")\n"
   ]
  },
  {
   "cell_type": "code",
   "execution_count": null,
   "id": "fad9417d-91cd-45be-a01c-377bcf426cba",
   "metadata": {
    "scrolled": true
   },
   "outputs": [],
   "source": [
    "print(co_occurrence_matrix)"
   ]
  },
  {
   "cell_type": "code",
   "execution_count": null,
   "id": "a7a715af-272d-45cf-88ec-c1e42de24d36",
   "metadata": {
    "scrolled": true
   },
   "outputs": [],
   "source": [
    "print(orders)"
   ]
  },
  {
   "cell_type": "markdown",
   "id": "4fc9bffd-34bf-496c-98c5-57122d699d8f",
   "metadata": {},
   "source": [
    "## RECOMMENDATION FUNCTION"
   ]
  },
  {
   "cell_type": "code",
   "execution_count": 44,
   "id": "e84cd7b0-dc45-46b6-a8f5-e1ca3fadacf4",
   "metadata": {},
   "outputs": [],
   "source": [
    "# Block: Recommendation Function\n",
    "# Blok: Öneri Fonksiyonu\n",
    "\n",
    "def recommend_products_from_models(test_cart_model_numbers, top_n=5):\n",
    "    \"\"\"\n",
    "    Recommends products based on the item-item co-occurrence matrix using product model numbers.\n",
    "    Ürün model numaralarını kullanarak ürün-ürün birliktelik matrisine dayalı olarak ürün önerir.\n",
    "    \n",
    "    Parameters:\n",
    "    - test_cart_model_numbers: List of product model numbers in the user's test cart\n",
    "    - top_n: Number of recommendations to return (default: 5)\n",
    "    \"\"\"\n",
    "    # Step 1: Convert product model numbers to ProductIds\n",
    "    # Adım 1: Ürün model numaralarını ProductId'lere dönüştürün\n",
    "    test_cart_product_ids = [get_product_id_by_model_number(model) for model in test_cart_model_numbers]\n",
    "    test_cart_product_ids = [pid for pid in test_cart_product_ids if pid != \"ProductId not found\"]\n",
    "    \n",
    "    if not test_cart_product_ids:\n",
    "        print(\"No valid products found in the test cart.\")  # Test sepetinde geçerli ürün bulunamadı\n",
    "        return []\n",
    "    \n",
    "    # Step 2: Map ProductIds to matrix indices\n",
    "    # Adım 2: ProductId'leri matris indekslerine eşleyin\n",
    "    product_index_map = {pid: idx for idx, pid in enumerate(df_filtered['ProductId (ShoppingCart)'].drop_duplicates().reset_index(drop=True))}\n",
    "    index_product_map = {idx: pid for pid, idx in product_index_map.items()}  # Reverse mapping\n",
    "    test_cart_indices = [product_index_map[pid] for pid in test_cart_product_ids if pid in product_index_map]\n",
    "    \n",
    "    if not test_cart_indices:\n",
    "        print(\"No valid products found in the test cart indices.\")  # Test sepetinde geçerli ürün indeksleri bulunamadı\n",
    "        return []\n",
    "    \n",
    "    # Step 3: Aggregate co-purchase counts for products in the test cart\n",
    "    # Adım 3: Test sepetindeki ürünler için birlikte satın alma sayılarını birleştirin\n",
    "    co_purchase_scores = co_occurrence_matrix[test_cart_indices, :].sum(axis=0).A1  # Sum rows and convert to array\n",
    "    \n",
    "    # Step 4: Filter out products already in the test cart\n",
    "    # Adım 4: Test sepetinde zaten bulunan ürünleri hariç tutun\n",
    "    for idx in test_cart_indices:\n",
    "        co_purchase_scores[idx] = 0  # Set co-purchase scores for test cart products to 0\n",
    "    \n",
    "    # Step 5: Rank products by co-purchase scores\n",
    "    # Adım 5: Ürünleri birlikte satın alma puanlarına göre sıralayın\n",
    "    top_indices = np.argsort(co_purchase_scores)[::-1][:top_n]  # Get top N indices in descending order\n",
    "    \n",
    "    # Map indices back to ProductIds\n",
    "    # İndeksleri yeniden ProductId'lere eşleyin\n",
    "    recommended_products = [index_product_map[idx] for idx in top_indices]\n",
    "    \n",
    "    # Return recommended products\n",
    "    # Önerilen ürünleri döndürün\n",
    "    return recommended_products\n"
   ]
  },
  {
   "cell_type": "markdown",
   "id": "3c96c046-b2a6-4504-851f-ad8381a6c6ea",
   "metadata": {},
   "source": [
    "## CREATING TEST CART FOR RECOMMENDATIONS"
   ]
  },
  {
   "cell_type": "code",
   "execution_count": 47,
   "id": "cea56316-1838-4209-8583-de7568b0e072",
   "metadata": {},
   "outputs": [],
   "source": [
    "# Block: Test Recommendation Function\n",
    "# Blok: Öneri Fonksiyonunu Test Etme\n",
    "\n",
    "def test_recommendation_function():\n",
    "    \"\"\"\n",
    "    Tests the recommendation function by taking product model numbers from the user.\n",
    "    Kullanıcıdan ürün model numaralarını alarak öneri fonksiyonunu test eder.\n",
    "    \"\"\"\n",
    "    # Step 1: Get test shopping cart product model numbers from the user\n",
    "    # Adım 1: Kullanıcıdan test alışveriş sepeti ürün model numaralarını alın\n",
    "    test_cart_model_numbers = input(\"Enter test cart product model numbers (comma-separated): \").split(\",\") \n",
    "    test_cart_model_numbers = [model.strip() for model in test_cart_model_numbers]  # Remove extra spaces\n",
    "    \n",
    "    # Step 2: Generate recommendations using the recommendation function\n",
    "    # Adım 2: Öneri fonksiyonunu kullanarak öneriler oluşturun\n",
    "    recommended_products = recommend_products_from_models(test_cart_model_numbers)\n",
    "    \n",
    "    # Step 3: Display Recommendations\n",
    "    # Adım 3: Önerileri Görüntüleyin\n",
    "    if recommended_products:\n",
    "        print(\"\\nRecommended Products:\")\n",
    "        for pid in recommended_products:\n",
    "            model_number = get_product_model_number(pid)\n",
    "            print(f\"Model Number: {model_number}\")\n",
    "    else:\n",
    "        print(\"No recommendations available.\")\n"
   ]
  },
  {
   "cell_type": "code",
   "execution_count": null,
   "id": "ae77de8a-8f7a-4e97-a97b-ff262bf6979e",
   "metadata": {},
   "outputs": [],
   "source": [
    "# Run the test function\n",
    "test_recommendation_function()"
   ]
  }
 ],
 "metadata": {
  "kernelspec": {
   "display_name": "Python 3",
   "language": "python",
   "name": "python3"
  },
  "language_info": {
   "codemirror_mode": {
    "name": "ipython",
    "version": 3
   },
   "file_extension": ".py",
   "mimetype": "text/x-python",
   "name": "python",
   "nbconvert_exporter": "python",
   "pygments_lexer": "ipython3",
   "version": "3.12.1"
  }
 },
 "nbformat": 4,
 "nbformat_minor": 5
}
